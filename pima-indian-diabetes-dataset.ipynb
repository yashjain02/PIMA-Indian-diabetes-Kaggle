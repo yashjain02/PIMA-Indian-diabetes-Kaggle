{
 "cells": [
  {
   "cell_type": "code",
   "execution_count": 1,
   "id": "766e9546",
   "metadata": {
    "execution": {
     "iopub.execute_input": "2022-05-10T19:07:08.348864Z",
     "iopub.status.busy": "2022-05-10T19:07:08.348524Z",
     "iopub.status.idle": "2022-05-10T19:07:09.829274Z",
     "shell.execute_reply": "2022-05-10T19:07:09.828042Z"
    },
    "papermill": {
     "duration": 1.511645,
     "end_time": "2022-05-10T19:07:09.832068",
     "exception": false,
     "start_time": "2022-05-10T19:07:08.320423",
     "status": "completed"
    },
    "tags": []
   },
   "outputs": [],
   "source": [
    "import numpy as np\n",
    "import pandas as pd\n",
    "import seaborn as sns\n",
    "import matplotlib.pyplot as plt\n",
    "from sklearn.model_selection import train_test_split\n",
    "from sklearn.impute import SimpleImputer"
   ]
  },
  {
   "cell_type": "code",
   "execution_count": 2,
   "id": "2afefdee",
   "metadata": {
    "execution": {
     "iopub.execute_input": "2022-05-10T19:07:09.886690Z",
     "iopub.status.busy": "2022-05-10T19:07:09.886090Z",
     "iopub.status.idle": "2022-05-10T19:07:09.909886Z",
     "shell.execute_reply": "2022-05-10T19:07:09.909122Z"
    },
    "papermill": {
     "duration": 0.052421,
     "end_time": "2022-05-10T19:07:09.912184",
     "exception": false,
     "start_time": "2022-05-10T19:07:09.859763",
     "status": "completed"
    },
    "tags": []
   },
   "outputs": [],
   "source": [
    "data = pd.read_csv('../input/pima-indians-diabetes-database/diabetes.csv')"
   ]
  },
  {
   "cell_type": "code",
   "execution_count": 3,
   "id": "8e31f0ba",
   "metadata": {
    "execution": {
     "iopub.execute_input": "2022-05-10T19:07:09.964109Z",
     "iopub.status.busy": "2022-05-10T19:07:09.963462Z",
     "iopub.status.idle": "2022-05-10T19:07:09.985670Z",
     "shell.execute_reply": "2022-05-10T19:07:09.984498Z"
    },
    "papermill": {
     "duration": 0.051218,
     "end_time": "2022-05-10T19:07:09.988145",
     "exception": false,
     "start_time": "2022-05-10T19:07:09.936927",
     "status": "completed"
    },
    "tags": []
   },
   "outputs": [
    {
     "data": {
      "text/html": [
       "<div>\n",
       "<style scoped>\n",
       "    .dataframe tbody tr th:only-of-type {\n",
       "        vertical-align: middle;\n",
       "    }\n",
       "\n",
       "    .dataframe tbody tr th {\n",
       "        vertical-align: top;\n",
       "    }\n",
       "\n",
       "    .dataframe thead th {\n",
       "        text-align: right;\n",
       "    }\n",
       "</style>\n",
       "<table border=\"1\" class=\"dataframe\">\n",
       "  <thead>\n",
       "    <tr style=\"text-align: right;\">\n",
       "      <th></th>\n",
       "      <th>Pregnancies</th>\n",
       "      <th>Glucose</th>\n",
       "      <th>BloodPressure</th>\n",
       "      <th>SkinThickness</th>\n",
       "      <th>Insulin</th>\n",
       "      <th>BMI</th>\n",
       "      <th>DiabetesPedigreeFunction</th>\n",
       "      <th>Age</th>\n",
       "      <th>Outcome</th>\n",
       "    </tr>\n",
       "  </thead>\n",
       "  <tbody>\n",
       "    <tr>\n",
       "      <th>0</th>\n",
       "      <td>6</td>\n",
       "      <td>148</td>\n",
       "      <td>72</td>\n",
       "      <td>35</td>\n",
       "      <td>0</td>\n",
       "      <td>33.6</td>\n",
       "      <td>0.627</td>\n",
       "      <td>50</td>\n",
       "      <td>1</td>\n",
       "    </tr>\n",
       "    <tr>\n",
       "      <th>1</th>\n",
       "      <td>1</td>\n",
       "      <td>85</td>\n",
       "      <td>66</td>\n",
       "      <td>29</td>\n",
       "      <td>0</td>\n",
       "      <td>26.6</td>\n",
       "      <td>0.351</td>\n",
       "      <td>31</td>\n",
       "      <td>0</td>\n",
       "    </tr>\n",
       "    <tr>\n",
       "      <th>2</th>\n",
       "      <td>8</td>\n",
       "      <td>183</td>\n",
       "      <td>64</td>\n",
       "      <td>0</td>\n",
       "      <td>0</td>\n",
       "      <td>23.3</td>\n",
       "      <td>0.672</td>\n",
       "      <td>32</td>\n",
       "      <td>1</td>\n",
       "    </tr>\n",
       "    <tr>\n",
       "      <th>3</th>\n",
       "      <td>1</td>\n",
       "      <td>89</td>\n",
       "      <td>66</td>\n",
       "      <td>23</td>\n",
       "      <td>94</td>\n",
       "      <td>28.1</td>\n",
       "      <td>0.167</td>\n",
       "      <td>21</td>\n",
       "      <td>0</td>\n",
       "    </tr>\n",
       "    <tr>\n",
       "      <th>4</th>\n",
       "      <td>0</td>\n",
       "      <td>137</td>\n",
       "      <td>40</td>\n",
       "      <td>35</td>\n",
       "      <td>168</td>\n",
       "      <td>43.1</td>\n",
       "      <td>2.288</td>\n",
       "      <td>33</td>\n",
       "      <td>1</td>\n",
       "    </tr>\n",
       "  </tbody>\n",
       "</table>\n",
       "</div>"
      ],
      "text/plain": [
       "   Pregnancies  Glucose  BloodPressure  SkinThickness  Insulin   BMI  \\\n",
       "0            6      148             72             35        0  33.6   \n",
       "1            1       85             66             29        0  26.6   \n",
       "2            8      183             64              0        0  23.3   \n",
       "3            1       89             66             23       94  28.1   \n",
       "4            0      137             40             35      168  43.1   \n",
       "\n",
       "   DiabetesPedigreeFunction  Age  Outcome  \n",
       "0                     0.627   50        1  \n",
       "1                     0.351   31        0  \n",
       "2                     0.672   32        1  \n",
       "3                     0.167   21        0  \n",
       "4                     2.288   33        1  "
      ]
     },
     "execution_count": 3,
     "metadata": {},
     "output_type": "execute_result"
    }
   ],
   "source": [
    "data.head()"
   ]
  },
  {
   "cell_type": "code",
   "execution_count": 4,
   "id": "09a48e83",
   "metadata": {
    "execution": {
     "iopub.execute_input": "2022-05-10T19:07:10.041749Z",
     "iopub.status.busy": "2022-05-10T19:07:10.041383Z",
     "iopub.status.idle": "2022-05-10T19:07:10.047629Z",
     "shell.execute_reply": "2022-05-10T19:07:10.047015Z"
    },
    "papermill": {
     "duration": 0.034928,
     "end_time": "2022-05-10T19:07:10.049397",
     "exception": false,
     "start_time": "2022-05-10T19:07:10.014469",
     "status": "completed"
    },
    "tags": []
   },
   "outputs": [
    {
     "data": {
      "text/plain": [
       "(768, 9)"
      ]
     },
     "execution_count": 4,
     "metadata": {},
     "output_type": "execute_result"
    }
   ],
   "source": [
    "data.shape"
   ]
  },
  {
   "cell_type": "code",
   "execution_count": 5,
   "id": "1697705d",
   "metadata": {
    "execution": {
     "iopub.execute_input": "2022-05-10T19:07:10.104374Z",
     "iopub.status.busy": "2022-05-10T19:07:10.103742Z",
     "iopub.status.idle": "2022-05-10T19:07:10.109984Z",
     "shell.execute_reply": "2022-05-10T19:07:10.109401Z"
    },
    "papermill": {
     "duration": 0.036723,
     "end_time": "2022-05-10T19:07:10.111831",
     "exception": false,
     "start_time": "2022-05-10T19:07:10.075108",
     "status": "completed"
    },
    "tags": []
   },
   "outputs": [
    {
     "data": {
      "text/plain": [
       "False"
      ]
     },
     "execution_count": 5,
     "metadata": {},
     "output_type": "execute_result"
    }
   ],
   "source": [
    "data.isnull().values.any()"
   ]
  },
  {
   "cell_type": "code",
   "execution_count": 6,
   "id": "a6ea146f",
   "metadata": {
    "execution": {
     "iopub.execute_input": "2022-05-10T19:07:10.166283Z",
     "iopub.status.busy": "2022-05-10T19:07:10.165912Z",
     "iopub.status.idle": "2022-05-10T19:07:10.188458Z",
     "shell.execute_reply": "2022-05-10T19:07:10.187404Z"
    },
    "papermill": {
     "duration": 0.053115,
     "end_time": "2022-05-10T19:07:10.190786",
     "exception": false,
     "start_time": "2022-05-10T19:07:10.137671",
     "status": "completed"
    },
    "tags": []
   },
   "outputs": [
    {
     "data": {
      "text/html": [
       "<div>\n",
       "<style scoped>\n",
       "    .dataframe tbody tr th:only-of-type {\n",
       "        vertical-align: middle;\n",
       "    }\n",
       "\n",
       "    .dataframe tbody tr th {\n",
       "        vertical-align: top;\n",
       "    }\n",
       "\n",
       "    .dataframe thead th {\n",
       "        text-align: right;\n",
       "    }\n",
       "</style>\n",
       "<table border=\"1\" class=\"dataframe\">\n",
       "  <thead>\n",
       "    <tr style=\"text-align: right;\">\n",
       "      <th></th>\n",
       "      <th>Pregnancies</th>\n",
       "      <th>Glucose</th>\n",
       "      <th>BloodPressure</th>\n",
       "      <th>SkinThickness</th>\n",
       "      <th>Insulin</th>\n",
       "      <th>BMI</th>\n",
       "      <th>DiabetesPedigreeFunction</th>\n",
       "      <th>Age</th>\n",
       "      <th>Outcome</th>\n",
       "    </tr>\n",
       "  </thead>\n",
       "  <tbody>\n",
       "    <tr>\n",
       "      <th>Pregnancies</th>\n",
       "      <td>1.000000</td>\n",
       "      <td>0.129459</td>\n",
       "      <td>0.141282</td>\n",
       "      <td>-0.081672</td>\n",
       "      <td>-0.073535</td>\n",
       "      <td>0.017683</td>\n",
       "      <td>-0.033523</td>\n",
       "      <td>0.544341</td>\n",
       "      <td>0.221898</td>\n",
       "    </tr>\n",
       "    <tr>\n",
       "      <th>Glucose</th>\n",
       "      <td>0.129459</td>\n",
       "      <td>1.000000</td>\n",
       "      <td>0.152590</td>\n",
       "      <td>0.057328</td>\n",
       "      <td>0.331357</td>\n",
       "      <td>0.221071</td>\n",
       "      <td>0.137337</td>\n",
       "      <td>0.263514</td>\n",
       "      <td>0.466581</td>\n",
       "    </tr>\n",
       "    <tr>\n",
       "      <th>BloodPressure</th>\n",
       "      <td>0.141282</td>\n",
       "      <td>0.152590</td>\n",
       "      <td>1.000000</td>\n",
       "      <td>0.207371</td>\n",
       "      <td>0.088933</td>\n",
       "      <td>0.281805</td>\n",
       "      <td>0.041265</td>\n",
       "      <td>0.239528</td>\n",
       "      <td>0.065068</td>\n",
       "    </tr>\n",
       "    <tr>\n",
       "      <th>SkinThickness</th>\n",
       "      <td>-0.081672</td>\n",
       "      <td>0.057328</td>\n",
       "      <td>0.207371</td>\n",
       "      <td>1.000000</td>\n",
       "      <td>0.436783</td>\n",
       "      <td>0.392573</td>\n",
       "      <td>0.183928</td>\n",
       "      <td>-0.113970</td>\n",
       "      <td>0.074752</td>\n",
       "    </tr>\n",
       "    <tr>\n",
       "      <th>Insulin</th>\n",
       "      <td>-0.073535</td>\n",
       "      <td>0.331357</td>\n",
       "      <td>0.088933</td>\n",
       "      <td>0.436783</td>\n",
       "      <td>1.000000</td>\n",
       "      <td>0.197859</td>\n",
       "      <td>0.185071</td>\n",
       "      <td>-0.042163</td>\n",
       "      <td>0.130548</td>\n",
       "    </tr>\n",
       "    <tr>\n",
       "      <th>BMI</th>\n",
       "      <td>0.017683</td>\n",
       "      <td>0.221071</td>\n",
       "      <td>0.281805</td>\n",
       "      <td>0.392573</td>\n",
       "      <td>0.197859</td>\n",
       "      <td>1.000000</td>\n",
       "      <td>0.140647</td>\n",
       "      <td>0.036242</td>\n",
       "      <td>0.292695</td>\n",
       "    </tr>\n",
       "    <tr>\n",
       "      <th>DiabetesPedigreeFunction</th>\n",
       "      <td>-0.033523</td>\n",
       "      <td>0.137337</td>\n",
       "      <td>0.041265</td>\n",
       "      <td>0.183928</td>\n",
       "      <td>0.185071</td>\n",
       "      <td>0.140647</td>\n",
       "      <td>1.000000</td>\n",
       "      <td>0.033561</td>\n",
       "      <td>0.173844</td>\n",
       "    </tr>\n",
       "    <tr>\n",
       "      <th>Age</th>\n",
       "      <td>0.544341</td>\n",
       "      <td>0.263514</td>\n",
       "      <td>0.239528</td>\n",
       "      <td>-0.113970</td>\n",
       "      <td>-0.042163</td>\n",
       "      <td>0.036242</td>\n",
       "      <td>0.033561</td>\n",
       "      <td>1.000000</td>\n",
       "      <td>0.238356</td>\n",
       "    </tr>\n",
       "    <tr>\n",
       "      <th>Outcome</th>\n",
       "      <td>0.221898</td>\n",
       "      <td>0.466581</td>\n",
       "      <td>0.065068</td>\n",
       "      <td>0.074752</td>\n",
       "      <td>0.130548</td>\n",
       "      <td>0.292695</td>\n",
       "      <td>0.173844</td>\n",
       "      <td>0.238356</td>\n",
       "      <td>1.000000</td>\n",
       "    </tr>\n",
       "  </tbody>\n",
       "</table>\n",
       "</div>"
      ],
      "text/plain": [
       "                          Pregnancies   Glucose  BloodPressure  SkinThickness  \\\n",
       "Pregnancies                  1.000000  0.129459       0.141282      -0.081672   \n",
       "Glucose                      0.129459  1.000000       0.152590       0.057328   \n",
       "BloodPressure                0.141282  0.152590       1.000000       0.207371   \n",
       "SkinThickness               -0.081672  0.057328       0.207371       1.000000   \n",
       "Insulin                     -0.073535  0.331357       0.088933       0.436783   \n",
       "BMI                          0.017683  0.221071       0.281805       0.392573   \n",
       "DiabetesPedigreeFunction    -0.033523  0.137337       0.041265       0.183928   \n",
       "Age                          0.544341  0.263514       0.239528      -0.113970   \n",
       "Outcome                      0.221898  0.466581       0.065068       0.074752   \n",
       "\n",
       "                           Insulin       BMI  DiabetesPedigreeFunction  \\\n",
       "Pregnancies              -0.073535  0.017683                 -0.033523   \n",
       "Glucose                   0.331357  0.221071                  0.137337   \n",
       "BloodPressure             0.088933  0.281805                  0.041265   \n",
       "SkinThickness             0.436783  0.392573                  0.183928   \n",
       "Insulin                   1.000000  0.197859                  0.185071   \n",
       "BMI                       0.197859  1.000000                  0.140647   \n",
       "DiabetesPedigreeFunction  0.185071  0.140647                  1.000000   \n",
       "Age                      -0.042163  0.036242                  0.033561   \n",
       "Outcome                   0.130548  0.292695                  0.173844   \n",
       "\n",
       "                               Age   Outcome  \n",
       "Pregnancies               0.544341  0.221898  \n",
       "Glucose                   0.263514  0.466581  \n",
       "BloodPressure             0.239528  0.065068  \n",
       "SkinThickness            -0.113970  0.074752  \n",
       "Insulin                  -0.042163  0.130548  \n",
       "BMI                       0.036242  0.292695  \n",
       "DiabetesPedigreeFunction  0.033561  0.173844  \n",
       "Age                       1.000000  0.238356  \n",
       "Outcome                   0.238356  1.000000  "
      ]
     },
     "execution_count": 6,
     "metadata": {},
     "output_type": "execute_result"
    }
   ],
   "source": [
    "data.corr()"
   ]
  },
  {
   "cell_type": "code",
   "execution_count": 7,
   "id": "9799cdb3",
   "metadata": {
    "execution": {
     "iopub.execute_input": "2022-05-10T19:07:10.247893Z",
     "iopub.status.busy": "2022-05-10T19:07:10.247624Z",
     "iopub.status.idle": "2022-05-10T19:07:11.011256Z",
     "shell.execute_reply": "2022-05-10T19:07:11.010314Z"
    },
    "papermill": {
     "duration": 0.794931,
     "end_time": "2022-05-10T19:07:11.013582",
     "exception": false,
     "start_time": "2022-05-10T19:07:10.218651",
     "status": "completed"
    },
    "tags": []
   },
   "outputs": [
    {
     "data": {
      "text/plain": [
       "<AxesSubplot:>"
      ]
     },
     "execution_count": 7,
     "metadata": {},
     "output_type": "execute_result"
    },
    {
     "data": {
      "image/png": "[encoded data removed]",
      "text/plain": [
       "<Figure size 432x288 with 2 Axes>"
      ]
     },
     "metadata": {
      "needs_background": "light"
     },
     "output_type": "display_data"
    }
   ],
   "source": [
    "cormat=data.corr()\n",
    "top_corr_feature=cormat.index\n",
    "sns.heatmap(data[top_corr_feature].corr(),annot=True)"
   ]
  },
  {
   "cell_type": "code",
   "execution_count": 8,
   "id": "43785d54",
   "metadata": {
    "execution": {
     "iopub.execute_input": "2022-05-10T19:07:11.078190Z",
     "iopub.status.busy": "2022-05-10T19:07:11.077876Z",
     "iopub.status.idle": "2022-05-10T19:07:11.230312Z",
     "shell.execute_reply": "2022-05-10T19:07:11.229137Z"
    },
    "papermill": {
     "duration": 0.189199,
     "end_time": "2022-05-10T19:07:11.233011",
     "exception": false,
     "start_time": "2022-05-10T19:07:11.043812",
     "status": "completed"
    },
    "tags": []
   },
   "outputs": [
    {
     "data": {
      "image/png": "[encoded data removed]",
      "text/plain": [
       "<Figure size 432x288 with 1 Axes>"
      ]
     },
     "metadata": {
      "needs_background": "light"
     },
     "output_type": "display_data"
    }
   ],
   "source": [
    "plt.bar(['Yes','No'],data['Outcome'].value_counts())\n",
    "plt.show()"
   ]
  },
  {
   "cell_type": "code",
   "execution_count": 9,
   "id": "bc75bc3b",
   "metadata": {
    "execution": {
     "iopub.execute_input": "2022-05-10T19:07:11.297387Z",
     "iopub.status.busy": "2022-05-10T19:07:11.297127Z",
     "iopub.status.idle": "2022-05-10T19:07:11.302045Z",
     "shell.execute_reply": "2022-05-10T19:07:11.301386Z"
    },
    "papermill": {
     "duration": 0.039259,
     "end_time": "2022-05-10T19:07:11.303818",
     "exception": false,
     "start_time": "2022-05-10T19:07:11.264559",
     "status": "completed"
    },
    "tags": []
   },
   "outputs": [],
   "source": [
    "Features=data.iloc[:,:8]\n",
    "Target=data[['Outcome']]"
   ]
  },
  {
   "cell_type": "code",
   "execution_count": 10,
   "id": "1fe45925",
   "metadata": {
    "execution": {
     "iopub.execute_input": "2022-05-10T19:07:11.366652Z",
     "iopub.status.busy": "2022-05-10T19:07:11.366122Z",
     "iopub.status.idle": "2022-05-10T19:07:11.372045Z",
     "shell.execute_reply": "2022-05-10T19:07:11.371400Z"
    },
    "papermill": {
     "duration": 0.039803,
     "end_time": "2022-05-10T19:07:11.374107",
     "exception": false,
     "start_time": "2022-05-10T19:07:11.334304",
     "status": "completed"
    },
    "tags": []
   },
   "outputs": [],
   "source": [
    "feature_train, feature_test, target_train, train_test = train_test_split(Features,Target, test_size=0.33, random_state=0)"
   ]
  },
  {
   "cell_type": "code",
   "execution_count": 11,
   "id": "e8e28641",
   "metadata": {
    "execution": {
     "iopub.execute_input": "2022-05-10T19:07:11.435835Z",
     "iopub.status.busy": "2022-05-10T19:07:11.435330Z",
     "iopub.status.idle": "2022-05-10T19:07:11.449269Z",
     "shell.execute_reply": "2022-05-10T19:07:11.448602Z"
    },
    "papermill": {
     "duration": 0.049109,
     "end_time": "2022-05-10T19:07:11.453066",
     "exception": false,
     "start_time": "2022-05-10T19:07:11.403957",
     "status": "completed"
    },
    "tags": []
   },
   "outputs": [
    {
     "name": "stdout",
     "output_type": "stream",
     "text": [
      "Number of rows = 768\n",
      "Number of 0s in Glucose = 5\n",
      "Number of 0s in BloodPressure = 35\n",
      "Number of 0s in SkinThickness = 227\n",
      "Number of 0s in Insulin = 374\n",
      "Number of 0s in BMI = 11\n",
      "Number of 0s in DiabetesPedigreeFunction = 0\n",
      "Number of 0s in Age = 0\n"
     ]
    }
   ],
   "source": [
    "print('Number of rows = {0}'.format(len(data)))\n",
    "print('Number of 0s in Glucose = {0}'.format(len(data.loc[data['Glucose']==0])))\n",
    "print('Number of 0s in BloodPressure = {0}'.format(len(data.loc[data['BloodPressure']==0])))\n",
    "print('Number of 0s in SkinThickness = {0}'.format(len(data.loc[data['SkinThickness']==0])))\n",
    "print('Number of 0s in Insulin = {0}'.format(len(data.loc[data['Insulin']==0])))\n",
    "print('Number of 0s in BMI = {0}'.format(len(data.loc[data['BMI']==0])))\n",
    "print('Number of 0s in DiabetesPedigreeFunction = {0}'.format(len(data.loc[data['DiabetesPedigreeFunction']==0])))\n",
    "print('Number of 0s in Age = {0}'.format(len(data.loc[data['Age']==0])))"
   ]
  },
  {
   "cell_type": "code",
   "execution_count": 12,
   "id": "8699d50b",
   "metadata": {
    "execution": {
     "iopub.execute_input": "2022-05-10T19:07:11.517857Z",
     "iopub.status.busy": "2022-05-10T19:07:11.517355Z",
     "iopub.status.idle": "2022-05-10T19:07:11.529137Z",
     "shell.execute_reply": "2022-05-10T19:07:11.528526Z"
    },
    "papermill": {
     "duration": 0.045847,
     "end_time": "2022-05-10T19:07:11.531011",
     "exception": false,
     "start_time": "2022-05-10T19:07:11.485164",
     "status": "completed"
    },
    "tags": []
   },
   "outputs": [
    {
     "data": {
      "text/plain": [
       "array([[199.   ,  76.   ,  43.   , ...,  42.9  ,   1.394,  22.   ],\n",
       "       [107.   ,  74.   ,  30.   , ...,  33.6  ,   0.404,  23.   ],\n",
       "       [ 76.   ,  62.   ,   0.   , ...,  34.   ,   0.391,  25.   ],\n",
       "       ...,\n",
       "       [145.   ,  82.   ,  18.   , ...,  32.5  ,   0.235,  70.   ],\n",
       "       [ 90.   ,  80.   ,  14.   , ...,  24.4  ,   0.249,  24.   ],\n",
       "       [128.   ,  48.   ,  45.   , ...,  40.5  ,   0.613,  24.   ]])"
      ]
     },
     "execution_count": 12,
     "metadata": {},
     "output_type": "execute_result"
    }
   ],
   "source": [
    "features_train=feature_train.iloc[:,1:]\n",
    "features_test=feature_test.iloc[:,1:]\n",
    "imputer = SimpleImputer(missing_values=np.nan, strategy='mean')\n",
    "imputer.fit(features_train)\n",
    "imputer.transform(features_test)"
   ]
  },
  {
   "cell_type": "code",
   "execution_count": 13,
   "id": "c8763c4b",
   "metadata": {
    "execution": {
     "iopub.execute_input": "2022-05-10T19:07:11.595139Z",
     "iopub.status.busy": "2022-05-10T19:07:11.594606Z",
     "iopub.status.idle": "2022-05-10T19:07:11.606151Z",
     "shell.execute_reply": "2022-05-10T19:07:11.605159Z"
    },
    "papermill": {
     "duration": 0.046508,
     "end_time": "2022-05-10T19:07:11.608528",
     "exception": false,
     "start_time": "2022-05-10T19:07:11.562020",
     "status": "completed"
    },
    "tags": []
   },
   "outputs": [
    {
     "data": {
      "text/plain": [
       "KNeighborsClassifier(n_neighbors=1)"
      ]
     },
     "execution_count": 13,
     "metadata": {},
     "output_type": "execute_result"
    }
   ],
   "source": [
    "from sklearn.neighbors import KNeighborsClassifier\n",
    "knn=KNeighborsClassifier(n_neighbors=1)\n",
    "knn.fit(features_train,target_train.values.ravel())"
   ]
  },
  {
   "cell_type": "code",
   "execution_count": 14,
   "id": "24778037",
   "metadata": {
    "execution": {
     "iopub.execute_input": "2022-05-10T19:07:11.674302Z",
     "iopub.status.busy": "2022-05-10T19:07:11.673952Z",
     "iopub.status.idle": "2022-05-10T19:07:11.691020Z",
     "shell.execute_reply": "2022-05-10T19:07:11.689951Z"
    },
    "papermill": {
     "duration": 0.052583,
     "end_time": "2022-05-10T19:07:11.693610",
     "exception": false,
     "start_time": "2022-05-10T19:07:11.641027",
     "status": "completed"
    },
    "tags": []
   },
   "outputs": [],
   "source": [
    "pred=knn.predict(features_test)"
   ]
  },
  {
   "cell_type": "code",
   "execution_count": 15,
   "id": "b9748ea0",
   "metadata": {
    "execution": {
     "iopub.execute_input": "2022-05-10T19:07:11.760126Z",
     "iopub.status.busy": "2022-05-10T19:07:11.759788Z",
     "iopub.status.idle": "2022-05-10T19:07:11.771484Z",
     "shell.execute_reply": "2022-05-10T19:07:11.770859Z"
    },
    "papermill": {
     "duration": 0.048821,
     "end_time": "2022-05-10T19:07:11.774543",
     "exception": false,
     "start_time": "2022-05-10T19:07:11.725722",
     "status": "completed"
    },
    "tags": []
   },
   "outputs": [
    {
     "name": "stdout",
     "output_type": "stream",
     "text": [
      "              precision    recall  f1-score   support\n",
      "\n",
      "           0       0.71      0.74      0.72       170\n",
      "           1       0.43      0.40      0.42        84\n",
      "\n",
      "    accuracy                           0.63       254\n",
      "   macro avg       0.57      0.57      0.57       254\n",
      "weighted avg       0.62      0.63      0.62       254\n",
      "\n"
     ]
    }
   ],
   "source": [
    "from sklearn import metrics\n",
    "print(metrics.classification_report(train_test,pred))"
   ]
  },
  {
   "cell_type": "code",
   "execution_count": 16,
   "id": "c044bc43",
   "metadata": {
    "execution": {
     "iopub.execute_input": "2022-05-10T19:07:11.842489Z",
     "iopub.status.busy": "2022-05-10T19:07:11.840976Z",
     "iopub.status.idle": "2022-05-10T19:07:11.851917Z",
     "shell.execute_reply": "2022-05-10T19:07:11.850609Z"
    },
    "papermill": {
     "duration": 0.048109,
     "end_time": "2022-05-10T19:07:11.855569",
     "exception": false,
     "start_time": "2022-05-10T19:07:11.807460",
     "status": "completed"
    },
    "tags": []
   },
   "outputs": [
    {
     "name": "stdout",
     "output_type": "stream",
     "text": [
      "[[125  45]\n",
      " [ 50  34]]\n"
     ]
    }
   ],
   "source": [
    "print(metrics.confusion_matrix(train_test,pred))"
   ]
  },
  {
   "cell_type": "code",
   "execution_count": 17,
   "id": "d9f18afe",
   "metadata": {
    "execution": {
     "iopub.execute_input": "2022-05-10T19:07:11.922585Z",
     "iopub.status.busy": "2022-05-10T19:07:11.922286Z",
     "iopub.status.idle": "2022-05-10T19:07:11.965797Z",
     "shell.execute_reply": "2022-05-10T19:07:11.964813Z"
    },
    "papermill": {
     "duration": 0.07974,
     "end_time": "2022-05-10T19:07:11.968404",
     "exception": false,
     "start_time": "2022-05-10T19:07:11.888664",
     "status": "completed"
    },
    "tags": []
   },
   "outputs": [
    {
     "data": {
      "text/plain": [
       "DecisionTreeClassifier(criterion='entropy', random_state=0)"
      ]
     },
     "execution_count": 17,
     "metadata": {},
     "output_type": "execute_result"
    }
   ],
   "source": [
    "from sklearn import tree\n",
    "clf = tree.DecisionTreeClassifier(random_state=0,criterion='entropy')\n",
    "clf.fit(features_train, target_train)"
   ]
  },
  {
   "cell_type": "code",
   "execution_count": 18,
   "id": "4d32c1a5",
   "metadata": {
    "execution": {
     "iopub.execute_input": "2022-05-10T19:07:12.037780Z",
     "iopub.status.busy": "2022-05-10T19:07:12.036681Z",
     "iopub.status.idle": "2022-05-10T19:07:12.044266Z",
     "shell.execute_reply": "2022-05-10T19:07:12.043281Z"
    },
    "papermill": {
     "duration": 0.045359,
     "end_time": "2022-05-10T19:07:12.046589",
     "exception": false,
     "start_time": "2022-05-10T19:07:12.001230",
     "status": "completed"
    },
    "tags": []
   },
   "outputs": [],
   "source": [
    "y_pred=clf.predict(features_test)"
   ]
  },
  {
   "cell_type": "code",
   "execution_count": 19,
   "id": "860de2f5",
   "metadata": {
    "execution": {
     "iopub.execute_input": "2022-05-10T19:07:12.114377Z",
     "iopub.status.busy": "2022-05-10T19:07:12.114031Z",
     "iopub.status.idle": "2022-05-10T19:07:12.126251Z",
     "shell.execute_reply": "2022-05-10T19:07:12.125082Z"
    },
    "papermill": {
     "duration": 0.048888,
     "end_time": "2022-05-10T19:07:12.128418",
     "exception": false,
     "start_time": "2022-05-10T19:07:12.079530",
     "status": "completed"
    },
    "tags": []
   },
   "outputs": [
    {
     "name": "stdout",
     "output_type": "stream",
     "text": [
      "              precision    recall  f1-score   support\n",
      "\n",
      "           0       0.76      0.75      0.75       170\n",
      "           1       0.51      0.52      0.51        84\n",
      "\n",
      "    accuracy                           0.67       254\n",
      "   macro avg       0.63      0.64      0.63       254\n",
      "weighted avg       0.68      0.67      0.67       254\n",
      "\n"
     ]
    }
   ],
   "source": [
    "print(metrics.classification_report(train_test,y_pred))"
   ]
  },
  {
   "cell_type": "code",
   "execution_count": 20,
   "id": "6bde3fd3",
   "metadata": {
    "execution": {
     "iopub.execute_input": "2022-05-10T19:07:12.197141Z",
     "iopub.status.busy": "2022-05-10T19:07:12.196625Z",
     "iopub.status.idle": "2022-05-10T19:07:12.268630Z",
     "shell.execute_reply": "2022-05-10T19:07:12.267359Z"
    },
    "papermill": {
     "duration": 0.109743,
     "end_time": "2022-05-10T19:07:12.271307",
     "exception": false,
     "start_time": "2022-05-10T19:07:12.161564",
     "status": "completed"
    },
    "tags": []
   },
   "outputs": [],
   "source": [
    "from sklearn.ensemble import RandomForestClassifier\n",
    "rfc=RandomForestClassifier(n_estimators=10,criterion='entropy', random_state=0,max_depth=5)"
   ]
  },
  {
   "cell_type": "code",
   "execution_count": 21,
   "id": "d2866850",
   "metadata": {
    "execution": {
     "iopub.execute_input": "2022-05-10T19:07:12.350146Z",
     "iopub.status.busy": "2022-05-10T19:07:12.349815Z",
     "iopub.status.idle": "2022-05-10T19:07:12.380948Z",
     "shell.execute_reply": "2022-05-10T19:07:12.380287Z"
    },
    "papermill": {
     "duration": 0.071288,
     "end_time": "2022-05-10T19:07:12.382952",
     "exception": false,
     "start_time": "2022-05-10T19:07:12.311664",
     "status": "completed"
    },
    "tags": []
   },
   "outputs": [
    {
     "data": {
      "text/plain": [
       "RandomForestClassifier(criterion='entropy', max_depth=5, n_estimators=10,\n",
       "                       random_state=0)"
      ]
     },
     "execution_count": 21,
     "metadata": {},
     "output_type": "execute_result"
    }
   ],
   "source": [
    "rfc.fit(features_train,target_train.values.ravel())"
   ]
  },
  {
   "cell_type": "code",
   "execution_count": 22,
   "id": "f63d7252",
   "metadata": {
    "execution": {
     "iopub.execute_input": "2022-05-10T19:07:12.452501Z",
     "iopub.status.busy": "2022-05-10T19:07:12.452108Z",
     "iopub.status.idle": "2022-05-10T19:07:12.459481Z",
     "shell.execute_reply": "2022-05-10T19:07:12.458634Z"
    },
    "papermill": {
     "duration": 0.045063,
     "end_time": "2022-05-10T19:07:12.461847",
     "exception": false,
     "start_time": "2022-05-10T19:07:12.416784",
     "status": "completed"
    },
    "tags": []
   },
   "outputs": [],
   "source": [
    "Y_pred=rfc.predict(features_test)"
   ]
  },
  {
   "cell_type": "code",
   "execution_count": 23,
   "id": "7a605ea8",
   "metadata": {
    "execution": {
     "iopub.execute_input": "2022-05-10T19:07:12.532969Z",
     "iopub.status.busy": "2022-05-10T19:07:12.532669Z",
     "iopub.status.idle": "2022-05-10T19:07:12.543040Z",
     "shell.execute_reply": "2022-05-10T19:07:12.541828Z"
    },
    "papermill": {
     "duration": 0.048995,
     "end_time": "2022-05-10T19:07:12.545421",
     "exception": false,
     "start_time": "2022-05-10T19:07:12.496426",
     "status": "completed"
    },
    "tags": []
   },
   "outputs": [
    {
     "name": "stdout",
     "output_type": "stream",
     "text": [
      "              precision    recall  f1-score   support\n",
      "\n",
      "           0       0.76      0.91      0.83       170\n",
      "           1       0.69      0.43      0.53        84\n",
      "\n",
      "    accuracy                           0.75       254\n",
      "   macro avg       0.73      0.67      0.68       254\n",
      "weighted avg       0.74      0.75      0.73       254\n",
      "\n"
     ]
    }
   ],
   "source": [
    "print(metrics.classification_report(train_test,Y_pred))"
   ]
  },
  {
   "cell_type": "code",
   "execution_count": null,
   "id": "e081dd2d",
   "metadata": {
    "papermill": {
     "duration": 0.032803,
     "end_time": "2022-05-10T19:07:12.613094",
     "exception": false,
     "start_time": "2022-05-10T19:07:12.580291",
     "status": "completed"
    },
    "tags": []
   },
   "outputs": [],
   "source": []
  }
 ],
 "metadata": {
  "kernelspec": {
   "display_name": "Python 3",
   "language": "python",
   "name": "python3"
  },
  "language_info": {
   "codemirror_mode": {
    "name": "ipython",
    "version": 3
   },
   "file_extension": ".py",
   "mimetype": "text/x-python",
   "name": "python",
   "nbconvert_exporter": "python",
   "pygments_lexer": "ipython3",
   "version": "3.7.12"
  },
  "papermill": {
   "default_parameters": {},
   "duration": 16.269629,
   "end_time": "2022-05-10T19:07:13.770501",
   "environment_variables": {},
   "exception": null,
   "input_path": "__notebook__.ipynb",
   "output_path": "__notebook__.ipynb",
   "parameters": {},
   "start_time": "2022-05-10T19:06:57.500872",
   "version": "2.3.4"
  }
 },
 "nbformat": 4,
 "nbformat_minor": 5
}
